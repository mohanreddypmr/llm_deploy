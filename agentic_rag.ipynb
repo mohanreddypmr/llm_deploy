{
 "cells": [
  {
   "cell_type": "code",
   "execution_count": 4,
   "metadata": {},
   "outputs": [
    {
     "name": "stderr",
     "output_type": "stream",
     "text": [
      "USER_AGENT environment variable not set, consider setting it to identify your requests.\n"
     ]
    }
   ],
   "source": [
    "from typing import Annotated,Literal,Sequence,TypedDict\n",
    "from langchain import hub\n",
    "from langchain_core.messages import BaseMessage,HumanMessage\n",
    "from langchain_core.prompts import PromptTemplate\n",
    "from langchain_core.output_parsers import StrOutputParser\n",
    "from langchain_core.pydantic_v1 import BaseModel,Field\n",
    "from langgraph.graph.message import add_messages\n",
    "from langgraph.prebuilt import tools_condition\n",
    "from langchain_community.document_loaders import WebBaseLoader\n",
    "from langchain_community.vectorstores import Chroma\n",
    "from langchain_text_splitters import RecursiveCharacterTextSplitter\n",
    "from langchain.tools.retriever import create_retriever_tool\n",
    "from langgraph.graph import START,END,StateGraph\n",
    "from langgraph.prebuilt import ToolNode"
   ]
  },
  {
   "cell_type": "code",
   "execution_count": 6,
   "metadata": {},
   "outputs": [
    {
     "name": "stderr",
     "output_type": "stream",
     "text": [
      "/home/mohan/miniconda3/envs/llm_dev/lib/python3.12/site-packages/tqdm/auto.py:21: TqdmWarning: IProgress not found. Please update jupyter and ipywidgets. See https://ipywidgets.readthedocs.io/en/stable/user_install.html\n",
      "  from .autonotebook import tqdm as notebook_tqdm\n"
     ]
    }
   ],
   "source": [
    "from langchain_huggingface import HuggingFaceEmbeddings\n",
    "\n",
    "embeddings = HuggingFaceEmbeddings(model_name=\"all-MiniLM-L6-v2\")"
   ]
  },
  {
   "cell_type": "code",
   "execution_count": 8,
   "metadata": {},
   "outputs": [
    {
     "data": {
      "text/plain": [
       "AIMessage(content=\"As an AI, I don't have feelings, but I'm here and ready to assist you! How can I help you today?\\n\", additional_kwargs={}, response_metadata={'token_usage': {'completion_tokens': 32, 'prompt_tokens': 15, 'total_tokens': 47, 'completion_time': 0.058181818, 'prompt_time': 0.001985817, 'queue_time': 0.236001621, 'total_time': 0.060167635}, 'model_name': 'gemma2-9b-it', 'system_fingerprint': 'fp_10c08bf97d', 'finish_reason': 'stop', 'logprobs': None}, id='run-3d06fe3f-dba0-49b9-bdc0-97bc7d24d735-0', usage_metadata={'input_tokens': 15, 'output_tokens': 32, 'total_tokens': 47})"
      ]
     },
     "execution_count": 8,
     "metadata": {},
     "output_type": "execute_result"
    }
   ],
   "source": [
    "from langchain_groq import ChatGroq\n",
    "\n",
    "llm = ChatGroq(temperature=0, groq_api_key= \"api-key groq\", model_name=\"gemma2-9b-it\")\n",
    "\n",
    "llm.invoke(\"Hello, how are you?\")"
   ]
  },
  {
   "cell_type": "code",
   "execution_count": 9,
   "metadata": {},
   "outputs": [],
   "source": [
    "urls = [\n",
    "    \"https://lilianweng.github.io/posts/2023-03-15-prompt-engineering/\",\n",
    "    \"https://lilianweng.github.io/posts/2023-06-23-agent/\",\n",
    "]\n",
    "\n",
    "docs = [WebBaseLoader(url).load() for url in urls]"
   ]
  },
  {
   "cell_type": "code",
   "execution_count": 13,
   "metadata": {},
   "outputs": [
    {
     "data": {
      "text/plain": [
       "{'source': 'https://lilianweng.github.io/posts/2023-03-15-prompt-engineering/',\n",
       " 'title': \"Prompt Engineering | Lil'Log\",\n",
       " 'description': 'Prompt Engineering, also known as In-Context Prompting, refers to methods for how to communicate with LLM to steer its behavior for desired outcomes without updating the model weights. It is an empirical science and the effect of prompt engineering methods can vary a lot among models, thus requiring heavy experimentation and heuristics.\\nThis post only focuses on prompt engineering for autoregressive language models, so nothing with Cloze tests, image generation or multimodality models. At its core, the goal of prompt engineering is about alignment and model steerability. Check my previous post on controllable text generation.',\n",
       " 'language': 'en'}"
      ]
     },
     "execution_count": 13,
     "metadata": {},
     "output_type": "execute_result"
    }
   ],
   "source": [
    "docs[0][0].metadata"
   ]
  },
  {
   "cell_type": "code",
   "execution_count": 16,
   "metadata": {},
   "outputs": [
    {
     "name": "stdout",
     "output_type": "stream",
     "text": [
      "277\n"
     ]
    }
   ],
   "source": [
    "doc_list = [item for sublist in docs for item in sublist]\n",
    "text_splitter = RecursiveCharacterTextSplitter.from_tiktoken_encoder(\n",
    "    chunk_size=100,\n",
    "    chunk_overlap=5\n",
    ")\n",
    "\n",
    "\n",
    "doc_split = text_splitter.split_documents(doc_list)\n",
    "\n",
    "print(len(doc_split))"
   ]
  },
  {
   "cell_type": "code",
   "execution_count": 24,
   "metadata": {},
   "outputs": [
    {
     "data": {
      "text/plain": [
       "Document(metadata={'source': 'https://lilianweng.github.io/posts/2023-03-15-prompt-engineering/', 'title': \"Prompt Engineering | Lil'Log\", 'description': 'Prompt Engineering, also known as In-Context Prompting, refers to methods for how to communicate with LLM to steer its behavior for desired outcomes without updating the model weights. It is an empirical science and the effect of prompt engineering methods can vary a lot among models, thus requiring heavy experimentation and heuristics.\\nThis post only focuses on prompt engineering for autoregressive language models, so nothing with Cloze tests, image generation or multimodality models. At its core, the goal of prompt engineering is about alignment and model steerability. Check my previous post on controllable text generation.', 'language': 'en'}, page_content=\"Prompt Engineering | Lil'Log\\n\\n\\n\\n\\n\\n\\n\\n\\n\\n\\n\\n\\n\\n\\n\\n\\n\\n\\n\\n\\n\\n\\n\\n\\n\\n\\n\\n\\n\\n\\n\\n\\n\\n\\n\\n\\n\\n\\n\\nLil'Log\\n\\n\\n\\n\\n\\n\\n\\n\\n\\n\\n\\n\\n\\n\\n\\n\\n\\n|\\n\\n\\n\\n\\n\\n\\nPosts\\n\\n\\n\\n\\nArchive\\n\\n\\n\\n\\nSearch\\n\\n\\n\\n\\nTags\\n\\n\\n\\n\\nFAQ\\n\\n\\n\\n\\nemojisearch.app\")"
      ]
     },
     "execution_count": 24,
     "metadata": {},
     "output_type": "execute_result"
    }
   ],
   "source": [
    "doc_split[0]"
   ]
  },
  {
   "cell_type": "code",
   "execution_count": 29,
   "metadata": {},
   "outputs": [],
   "source": [
    "vector_store = Chroma.from_documents(\n",
    "    documents=doc_split,\n",
    "    embedding=embeddings,\n",
    "    collection_name=\"rag-chrome\",\n",
    ")\n"
   ]
  },
  {
   "cell_type": "code",
   "execution_count": 62,
   "metadata": {},
   "outputs": [],
   "source": [
    "retriever = vector_store.as_retriever()\n",
    "\n",
    "\n",
    "retriever_tool = create_retriever_tool(\n",
    "    retriever,\n",
    "    \"retriever_blog_posts\",\n",
    "    \"Search and return information about Lilian Weng's blog posts on LLM agents and prompt engineering\",\n",
    ")\n",
    "\n",
    "tools = [retriever_tool]"
   ]
  },
  {
   "cell_type": "code",
   "execution_count": 87,
   "metadata": {},
   "outputs": [],
   "source": [
    "from langchain_core.messages import AIMessage\n",
    "\n",
    "def AI_Assistant(state):\n",
    "    print(\"--Calling AI Assistant--\")\n",
    "    message = state['messages']\n",
    "    model_with_tools = llm.bind_tools(tools)\n",
    "    response = model_with_tools.invoke(message)\n",
    "    return {\"messages\": [response]}\n",
    "\n",
    "\n",
    "\n",
    "def rewrite(state):\n",
    "    print('--Calling rewriter--')\n",
    "    message = state['messages']\n",
    "    question = message[0].content\n",
    "    msg = [\n",
    "        HumanMessage(\n",
    "            content=f\"Rewrite the following question to be more specific and concise: {question}\"\n",
    "        )\n",
    "    ]\n",
    "    response = llm.invoke(msg)\n",
    "    return {\"messages\": [response]}\n",
    "\n",
    "def generate(state):\n",
    "    print(\"--Calling generate--\")\n",
    "    message = state['messages']\n",
    "    question = message[0].content\n",
    "    last_message = message[-1]\n",
    "    docs = last_message.content\n",
    "    \n",
    "    prompt = hub.pull('rlm/rag-prompt')\n",
    "    chain = prompt | llm | StrOutputParser()\n",
    "    response = chain.invoke({\"context\":docs,\"question\":question})\n",
    "    AI_response = AIMessage(content=response)\n",
    "    return {\"messages\": [AI_response]}"
   ]
  },
  {
   "cell_type": "code",
   "execution_count": 88,
   "metadata": {},
   "outputs": [],
   "source": [
    "class grade(BaseModel):\n",
    "    binary_score:str = Field(description=\"Relevance score 'yes' or 'no'\")\n",
    "\n",
    "class AgentState(TypedDict):\n",
    "    messages: Annotated[Sequence[BaseMessage],add_messages]"
   ]
  },
  {
   "cell_type": "code",
   "execution_count": 89,
   "metadata": {},
   "outputs": [],
   "source": [
    "def grade_document(state):\n",
    "    print('--Calling grade_document--')\n",
    "    llm_with_struct = llm.with_structured_output(grade)\n",
    "\n",
    "    prompt = PromptTemplate(\n",
    "        template=\"\"\"\n",
    "        You are a helpful assistant that can grade the relevance of a document to a question.\n",
    "        Here is the question: {question}\n",
    "        Here is the document: {document}\n",
    "        Please grade the relevance 'yes' or 'no' of the document to the question.\n",
    "        \"\"\",\n",
    "        input_variables=[\"question\",\"document\"]\n",
    "    )\n",
    "\n",
    "    messages = state['messages']\n",
    "    question = messages[0].content\n",
    "    last_message = messages[-1]\n",
    "    document = last_message.content\n",
    "    chain = prompt | llm_with_struct\n",
    "    response = chain.invoke({\"question\":question,\"document\":document})\n",
    "    score = response.binary_score\n",
    "    print(f\"Score: {score}\")\n",
    "    if score == 'yes':\n",
    "        return \"generator\"\n",
    "    else:\n",
    "        return \"rewriter\""
   ]
  },
  {
   "cell_type": "code",
   "execution_count": 90,
   "metadata": {},
   "outputs": [
    {
     "data": {
      "text/plain": [
       "<langgraph.graph.state.StateGraph at 0x762b65f2e900>"
      ]
     },
     "execution_count": 90,
     "metadata": {},
     "output_type": "execute_result"
    }
   ],
   "source": [
    "workflow = StateGraph(AgentState)\n",
    "workflow.add_node(\"ai_assistant\",AI_Assistant)\n",
    "retrieve = ToolNode([retriever_tool])\n",
    "workflow.add_node(\"retriever\",retrieve)\n",
    "workflow.add_node(\"rewriter\",rewrite)\n",
    "workflow.add_node(\"generator\",generate)\n",
    "\n",
    "\n",
    "workflow.add_edge(START, \"ai_assistant\")\n",
    "workflow.add_conditional_edges(\n",
    "    \"ai_assistant\",\n",
    "    tools_condition,\n",
    "    {\"tools\": \"retriever\",\n",
    "     END: END})\n",
    "\n",
    "workflow.add_conditional_edges(\n",
    "    \"retriever\",\n",
    "    grade_document,\n",
    "    {\n",
    "        \"rewriter\": \"rewriter\",\n",
    "        \"generator\": \"generator\",\n",
    "    },\n",
    ")\n",
    "\n",
    "workflow.add_edge(\"generator\",END)\n",
    "workflow.add_edge(\"rewriter\", \"retriever\")\n"
   ]
  },
  {
   "cell_type": "code",
   "execution_count": 91,
   "metadata": {},
   "outputs": [
    {
     "data": {
      "image/png": "[encoded data removed]",
      "text/plain": [
       "<IPython.core.display.Image object>"
      ]
     },
     "metadata": {},
     "output_type": "display_data"
    }
   ],
   "source": [
    "from IPython.display import Image\n",
    "\n",
    "app = workflow.compile()\n",
    "\n",
    "try:\n",
    "    display(Image(app.get_graph().draw_mermaid_png()))\n",
    "except Exception as e:\n",
    "    print(e)\n",
    "\n",
    "\n",
    "\n",
    "\n"
   ]
  },
  {
   "cell_type": "code",
   "execution_count": 94,
   "metadata": {},
   "outputs": [
    {
     "name": "stdout",
     "output_type": "stream",
     "text": [
      "--Calling AI Assistant--\n",
      "--Calling grade_document--\n",
      "Score: no\n",
      "--Calling rewriter--\n",
      "--Calling grade_document--\n",
      "Score: yes\n",
      "--Calling generate--\n"
     ]
    },
    {
     "name": "stderr",
     "output_type": "stream",
     "text": [
      "/home/mohan/miniconda3/envs/llm_dev/lib/python3.12/site-packages/langsmith/client.py:253: LangSmithMissingAPIKeyWarning: API key must be provided when using hosted LangSmith API\n",
      "  warnings.warn(\n"
     ]
    }
   ],
   "source": [
    "\n",
    "response = app.invoke({\"messages\": [\"What is current pm of india?\"]})"
   ]
  },
  {
   "cell_type": "code",
   "execution_count": 95,
   "metadata": {},
   "outputs": [
    {
     "data": {
      "text/plain": [
       "[HumanMessage(content='What is current pm of india?', additional_kwargs={}, response_metadata={}, id='576e6dcd-a89c-45eb-a0c0-90cda30467d0'),\n",
       " AIMessage(content='', additional_kwargs={'tool_calls': [{'id': 'call_t9hh', 'function': {'arguments': '{\"query\":\"current pm of india\"}', 'name': 'retriever_blog_posts'}, 'type': 'function'}]}, response_metadata={'token_usage': {'completion_tokens': 88, 'prompt_tokens': 975, 'total_tokens': 1063, 'completion_time': 0.16, 'prompt_time': 0.034186117, 'queue_time': 0.23389824999999997, 'total_time': 0.194186117}, 'model_name': 'gemma2-9b-it', 'system_fingerprint': 'fp_10c08bf97d', 'finish_reason': 'tool_calls', 'logprobs': None}, id='run-df42c6a4-2fb6-4f27-ab4d-fdd2790bb7c9-0', tool_calls=[{'name': 'retriever_blog_posts', 'args': {'query': 'current pm of india'}, 'id': 'call_t9hh', 'type': 'tool_call'}], usage_metadata={'input_tokens': 975, 'output_tokens': 88, 'total_tokens': 1063}),\n",
       " ToolMessage(content='LLM Powered Autonomous Agents\\n    \\nDate: June 23, 2023  |  Estimated Reading Time: 31 min  |  Author: Lilian Weng\\n\\n\\n \\n\\n\\nTable of Contents\\n\\n\\n\\nAgent System Overview\\n\\nComponent One: Planning\\n\\nTask Decomposition\\n\\nSelf-Reflection\\n\\n\\nComponent Two: Memory\\n\\nTypes of Memory\\n\\nMaximum Inner Product Search (MIPS)\\n\\nMRKL (Karpas et al. 2022), short for “Modular Reasoning, Knowledge and Language”, is a neuro-symbolic architecture for autonomous agents. A MRKL system is proposed to contain a collection of “expert” modules and the general-purpose LLM works as a router to route inquiries to the best suitable expert module. These modules can be neural (e.g. deep learning models) or symbolic\\n\\nWeng, Lilian. (Jun 2023). “LLM-powered Autonomous Agents”. Lil’Log. https://lilianweng.github.io/posts/2023-06-23-agent/.\\n\\nYou are {{ai-name}}, {{user-provided AI bot description}}.\\nYour decisions must always be made independently without seeking user assistance. Play to your strengths as an LLM and pursue simple strategies with no legal complications.', name='retriever_blog_posts', id='2526ebad-27d7-4931-ac57-c53387cdbf6c', tool_call_id='call_t9hh'),\n",
       " AIMessage(content='Who is the current Prime Minister of India? \\n', additional_kwargs={}, response_metadata={'token_usage': {'completion_tokens': 13, 'prompt_tokens': 27, 'total_tokens': 40, 'completion_time': 0.023636364, 'prompt_time': 0.002139575, 'queue_time': 0.236331679, 'total_time': 0.025775939}, 'model_name': 'gemma2-9b-it', 'system_fingerprint': 'fp_10c08bf97d', 'finish_reason': 'stop', 'logprobs': None}, id='run-1835c339-d8ae-454f-ae75-c045dba7abc1-0', usage_metadata={'input_tokens': 27, 'output_tokens': 13, 'total_tokens': 40}),\n",
       " AIMessage(content='The current Prime Minister of India is Narendra Modi.  He has held the office since May 26, 2014.  He is the leader of the Bharatiya Janata Party. \\n', additional_kwargs={}, response_metadata={}, id='83ef96f1-82f0-4ee4-a5f0-abd352b5b977')]"
      ]
     },
     "execution_count": 95,
     "metadata": {},
     "output_type": "execute_result"
    }
   ],
   "source": [
    "response['messages']"
   ]
  },
  {
   "cell_type": "code",
   "execution_count": null,
   "metadata": {},
   "outputs": [],
   "source": []
  }
 ],
 "metadata": {
  "kernelspec": {
   "display_name": "llm_dev",
   "language": "python",
   "name": "python3"
  },
  "language_info": {
   "codemirror_mode": {
    "name": "ipython",
    "version": 3
   },
   "file_extension": ".py",
   "mimetype": "text/x-python",
   "name": "python",
   "nbconvert_exporter": "python",
   "pygments_lexer": "ipython3",
   "version": "3.12.9"
  }
 },
 "nbformat": 4,
 "nbformat_minor": 2
}
